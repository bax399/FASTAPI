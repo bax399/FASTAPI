{
 "metadata": {
  "language_info": {
   "codemirror_mode": {
    "name": "ipython",
    "version": 3
   },
   "file_extension": ".py",
   "mimetype": "text/x-python",
   "name": "python",
   "nbconvert_exporter": "python",
   "pygments_lexer": "ipython3",
   "version": "3.9.0-final"
  },
  "orig_nbformat": 2,
  "kernelspec": {
   "name": "python3",
   "display_name": "Python 3.9.0 64-bit ('.fastapi')",
   "metadata": {
    "interpreter": {
     "hash": "8cf5bceeefa061d98a652e73b961c66a505a400d4321c0b323456436f5474a92"
    }
   }
  }
 },
 "nbformat": 4,
 "nbformat_minor": 2,
 "cells": [
  {
   "cell_type": "code",
   "execution_count": 4,
   "metadata": {},
   "outputs": [
    {
     "output_type": "stream",
     "name": "stdout",
     "text": [
      "23:30:00\n"
     ]
    }
   ],
   "source": [
    "import datetime\n",
    "t = datetime.time(23,30,0)\n",
    "print(t)\n"
   ]
  },
  {
   "cell_type": "code",
   "execution_count": 5,
   "metadata": {},
   "outputs": [
    {
     "output_type": "execute_result",
     "data": {
      "text/plain": [
       "'1.3.23'"
      ]
     },
     "metadata": {},
     "execution_count": 5
    }
   ],
   "source": [
    "import sqlalchemy\n",
    "sqlalchemy.__version__"
   ]
  },
  {
   "cell_type": "code",
   "execution_count": 6,
   "metadata": {},
   "outputs": [
    {
     "output_type": "stream",
     "name": "stdout",
     "text": [
      "[datetime.time(23, 30), datetime.time(23, 30)]\nSally\n[Person(id=123, name='Sally', slots=Slot(availables=[datetime.time(23, 30), datetime.time(23, 30)]))]\n"
     ]
    }
   ],
   "source": [
    "from model import *\n",
    "s = Slot(availables=[t])\n",
    "s.availables.append(t)\n",
    "print(s.availables)\n",
    "p = Person(id=123,name=\"Sally\",slots=s )  \n",
    "\n",
    "print(p.name)\n",
    "\n",
    "m = Meeting(people=[p])\n",
    "print(m.people)"
   ]
  }
 ]
}